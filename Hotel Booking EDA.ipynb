{
 "cells": [
  {
   "cell_type": "code",
   "execution_count": 1,
   "id": "56d46c6c",
   "metadata": {},
   "outputs": [],
   "source": [
    "import numpy as np\n",
    "import pandas as pd\n",
    "import matplotlib.pyplot as plt\n",
    "%matplotlib inline\n",
    "import seaborn as sns\n",
    "import datetime\n",
    "import time"
   ]
  },
  {
   "cell_type": "code",
   "execution_count": 2,
   "id": "19da7540",
   "metadata": {},
   "outputs": [],
   "source": [
    "import warnings\n",
    "warnings.filterwarnings(\"ignore\")"
   ]
  },
  {
   "cell_type": "code",
   "execution_count": 3,
   "id": "ecbb3780",
   "metadata": {},
   "outputs": [
    {
     "data": {
      "text/plain": [
       "'C:\\\\Users\\\\91982'"
      ]
     },
     "execution_count": 3,
     "metadata": {},
     "output_type": "execute_result"
    }
   ],
   "source": [
    "pwd"
   ]
  },
  {
   "cell_type": "code",
   "execution_count": 4,
   "id": "64575ebb",
   "metadata": {},
   "outputs": [],
   "source": [
    "import os"
   ]
  },
  {
   "cell_type": "code",
   "execution_count": 5,
   "id": "44bd1e61",
   "metadata": {},
   "outputs": [],
   "source": [
    "os.chdir(r\"C:\\Users\\91982\\Downloads\")"
   ]
  },
  {
   "cell_type": "code",
   "execution_count": 6,
   "id": "4895ef33",
   "metadata": {},
   "outputs": [],
   "source": [
    "data=pd.read_csv(r\"hotel_bookings.csv\")"
   ]
  },
  {
   "cell_type": "code",
   "execution_count": 7,
   "id": "f7d8d68f",
   "metadata": {},
   "outputs": [
    {
     "data": {
      "text/html": [
       "<div>\n",
       "<style scoped>\n",
       "    .dataframe tbody tr th:only-of-type {\n",
       "        vertical-align: middle;\n",
       "    }\n",
       "\n",
       "    .dataframe tbody tr th {\n",
       "        vertical-align: top;\n",
       "    }\n",
       "\n",
       "    .dataframe thead th {\n",
       "        text-align: right;\n",
       "    }\n",
       "</style>\n",
       "<table border=\"1\" class=\"dataframe\">\n",
       "  <thead>\n",
       "    <tr style=\"text-align: right;\">\n",
       "      <th></th>\n",
       "      <th>hotel</th>\n",
       "      <th>is_canceled</th>\n",
       "      <th>lead_time</th>\n",
       "      <th>arrival_date_year</th>\n",
       "      <th>arrival_date_month</th>\n",
       "      <th>arrival_date_week_number</th>\n",
       "      <th>arrival_date_day_of_month</th>\n",
       "      <th>stays_in_weekend_nights</th>\n",
       "      <th>stays_in_week_nights</th>\n",
       "      <th>adults</th>\n",
       "      <th>...</th>\n",
       "      <th>deposit_type</th>\n",
       "      <th>agent</th>\n",
       "      <th>company</th>\n",
       "      <th>days_in_waiting_list</th>\n",
       "      <th>customer_type</th>\n",
       "      <th>adr</th>\n",
       "      <th>required_car_parking_spaces</th>\n",
       "      <th>total_of_special_requests</th>\n",
       "      <th>reservation_status</th>\n",
       "      <th>reservation_status_date</th>\n",
       "    </tr>\n",
       "  </thead>\n",
       "  <tbody>\n",
       "    <tr>\n",
       "      <th>0</th>\n",
       "      <td>Resort Hotel</td>\n",
       "      <td>0</td>\n",
       "      <td>342</td>\n",
       "      <td>2015</td>\n",
       "      <td>July</td>\n",
       "      <td>27</td>\n",
       "      <td>1</td>\n",
       "      <td>0</td>\n",
       "      <td>0</td>\n",
       "      <td>2</td>\n",
       "      <td>...</td>\n",
       "      <td>No Deposit</td>\n",
       "      <td>NaN</td>\n",
       "      <td>NaN</td>\n",
       "      <td>0</td>\n",
       "      <td>Transient</td>\n",
       "      <td>0.0</td>\n",
       "      <td>0</td>\n",
       "      <td>0</td>\n",
       "      <td>Check-Out</td>\n",
       "      <td>2015-07-01</td>\n",
       "    </tr>\n",
       "    <tr>\n",
       "      <th>1</th>\n",
       "      <td>Resort Hotel</td>\n",
       "      <td>0</td>\n",
       "      <td>737</td>\n",
       "      <td>2015</td>\n",
       "      <td>July</td>\n",
       "      <td>27</td>\n",
       "      <td>1</td>\n",
       "      <td>0</td>\n",
       "      <td>0</td>\n",
       "      <td>2</td>\n",
       "      <td>...</td>\n",
       "      <td>No Deposit</td>\n",
       "      <td>NaN</td>\n",
       "      <td>NaN</td>\n",
       "      <td>0</td>\n",
       "      <td>Transient</td>\n",
       "      <td>0.0</td>\n",
       "      <td>0</td>\n",
       "      <td>0</td>\n",
       "      <td>Check-Out</td>\n",
       "      <td>2015-07-01</td>\n",
       "    </tr>\n",
       "    <tr>\n",
       "      <th>2</th>\n",
       "      <td>Resort Hotel</td>\n",
       "      <td>0</td>\n",
       "      <td>7</td>\n",
       "      <td>2015</td>\n",
       "      <td>July</td>\n",
       "      <td>27</td>\n",
       "      <td>1</td>\n",
       "      <td>0</td>\n",
       "      <td>1</td>\n",
       "      <td>1</td>\n",
       "      <td>...</td>\n",
       "      <td>No Deposit</td>\n",
       "      <td>NaN</td>\n",
       "      <td>NaN</td>\n",
       "      <td>0</td>\n",
       "      <td>Transient</td>\n",
       "      <td>75.0</td>\n",
       "      <td>0</td>\n",
       "      <td>0</td>\n",
       "      <td>Check-Out</td>\n",
       "      <td>2015-07-02</td>\n",
       "    </tr>\n",
       "    <tr>\n",
       "      <th>3</th>\n",
       "      <td>Resort Hotel</td>\n",
       "      <td>0</td>\n",
       "      <td>13</td>\n",
       "      <td>2015</td>\n",
       "      <td>July</td>\n",
       "      <td>27</td>\n",
       "      <td>1</td>\n",
       "      <td>0</td>\n",
       "      <td>1</td>\n",
       "      <td>1</td>\n",
       "      <td>...</td>\n",
       "      <td>No Deposit</td>\n",
       "      <td>304.0</td>\n",
       "      <td>NaN</td>\n",
       "      <td>0</td>\n",
       "      <td>Transient</td>\n",
       "      <td>75.0</td>\n",
       "      <td>0</td>\n",
       "      <td>0</td>\n",
       "      <td>Check-Out</td>\n",
       "      <td>2015-07-02</td>\n",
       "    </tr>\n",
       "    <tr>\n",
       "      <th>4</th>\n",
       "      <td>Resort Hotel</td>\n",
       "      <td>0</td>\n",
       "      <td>14</td>\n",
       "      <td>2015</td>\n",
       "      <td>July</td>\n",
       "      <td>27</td>\n",
       "      <td>1</td>\n",
       "      <td>0</td>\n",
       "      <td>2</td>\n",
       "      <td>2</td>\n",
       "      <td>...</td>\n",
       "      <td>No Deposit</td>\n",
       "      <td>240.0</td>\n",
       "      <td>NaN</td>\n",
       "      <td>0</td>\n",
       "      <td>Transient</td>\n",
       "      <td>98.0</td>\n",
       "      <td>0</td>\n",
       "      <td>1</td>\n",
       "      <td>Check-Out</td>\n",
       "      <td>2015-07-03</td>\n",
       "    </tr>\n",
       "  </tbody>\n",
       "</table>\n",
       "<p>5 rows × 32 columns</p>\n",
       "</div>"
      ],
      "text/plain": [
       "          hotel  is_canceled  lead_time  arrival_date_year arrival_date_month  \\\n",
       "0  Resort Hotel            0        342               2015               July   \n",
       "1  Resort Hotel            0        737               2015               July   \n",
       "2  Resort Hotel            0          7               2015               July   \n",
       "3  Resort Hotel            0         13               2015               July   \n",
       "4  Resort Hotel            0         14               2015               July   \n",
       "\n",
       "   arrival_date_week_number  arrival_date_day_of_month  \\\n",
       "0                        27                          1   \n",
       "1                        27                          1   \n",
       "2                        27                          1   \n",
       "3                        27                          1   \n",
       "4                        27                          1   \n",
       "\n",
       "   stays_in_weekend_nights  stays_in_week_nights  adults  ...  deposit_type  \\\n",
       "0                        0                     0       2  ...    No Deposit   \n",
       "1                        0                     0       2  ...    No Deposit   \n",
       "2                        0                     1       1  ...    No Deposit   \n",
       "3                        0                     1       1  ...    No Deposit   \n",
       "4                        0                     2       2  ...    No Deposit   \n",
       "\n",
       "   agent company days_in_waiting_list customer_type   adr  \\\n",
       "0    NaN     NaN                    0     Transient   0.0   \n",
       "1    NaN     NaN                    0     Transient   0.0   \n",
       "2    NaN     NaN                    0     Transient  75.0   \n",
       "3  304.0     NaN                    0     Transient  75.0   \n",
       "4  240.0     NaN                    0     Transient  98.0   \n",
       "\n",
       "   required_car_parking_spaces  total_of_special_requests  reservation_status  \\\n",
       "0                            0                          0           Check-Out   \n",
       "1                            0                          0           Check-Out   \n",
       "2                            0                          0           Check-Out   \n",
       "3                            0                          0           Check-Out   \n",
       "4                            0                          1           Check-Out   \n",
       "\n",
       "  reservation_status_date  \n",
       "0              2015-07-01  \n",
       "1              2015-07-01  \n",
       "2              2015-07-02  \n",
       "3              2015-07-02  \n",
       "4              2015-07-03  \n",
       "\n",
       "[5 rows x 32 columns]"
      ]
     },
     "execution_count": 7,
     "metadata": {},
     "output_type": "execute_result"
    }
   ],
   "source": [
    "data.head()"
   ]
  },
  {
   "cell_type": "code",
   "execution_count": 8,
   "id": "30ad73b1",
   "metadata": {},
   "outputs": [
    {
     "name": "stdout",
     "output_type": "stream",
     "text": [
      "<class 'pandas.core.frame.DataFrame'>\n",
      "RangeIndex: 119390 entries, 0 to 119389\n",
      "Data columns (total 32 columns):\n",
      " #   Column                          Non-Null Count   Dtype  \n",
      "---  ------                          --------------   -----  \n",
      " 0   hotel                           119390 non-null  object \n",
      " 1   is_canceled                     119390 non-null  int64  \n",
      " 2   lead_time                       119390 non-null  int64  \n",
      " 3   arrival_date_year               119390 non-null  int64  \n",
      " 4   arrival_date_month              119390 non-null  object \n",
      " 5   arrival_date_week_number        119390 non-null  int64  \n",
      " 6   arrival_date_day_of_month       119390 non-null  int64  \n",
      " 7   stays_in_weekend_nights         119390 non-null  int64  \n",
      " 8   stays_in_week_nights            119390 non-null  int64  \n",
      " 9   adults                          119390 non-null  int64  \n",
      " 10  children                        119386 non-null  float64\n",
      " 11  babies                          119390 non-null  int64  \n",
      " 12  meal                            119390 non-null  object \n",
      " 13  country                         118902 non-null  object \n",
      " 14  market_segment                  119390 non-null  object \n",
      " 15  distribution_channel            119390 non-null  object \n",
      " 16  is_repeated_guest               119390 non-null  int64  \n",
      " 17  previous_cancellations          119390 non-null  int64  \n",
      " 18  previous_bookings_not_canceled  119390 non-null  int64  \n",
      " 19  reserved_room_type              119390 non-null  object \n",
      " 20  assigned_room_type              119390 non-null  object \n",
      " 21  booking_changes                 119390 non-null  int64  \n",
      " 22  deposit_type                    119390 non-null  object \n",
      " 23  agent                           103050 non-null  float64\n",
      " 24  company                         6797 non-null    float64\n",
      " 25  days_in_waiting_list            119390 non-null  int64  \n",
      " 26  customer_type                   119390 non-null  object \n",
      " 27  adr                             119390 non-null  float64\n",
      " 28  required_car_parking_spaces     119390 non-null  int64  \n",
      " 29  total_of_special_requests       119390 non-null  int64  \n",
      " 30  reservation_status              119390 non-null  object \n",
      " 31  reservation_status_date         119390 non-null  object \n",
      "dtypes: float64(4), int64(16), object(12)\n",
      "memory usage: 23.7+ MB\n"
     ]
    }
   ],
   "source": [
    "data.info()"
   ]
  },
  {
   "cell_type": "code",
   "execution_count": 9,
   "id": "8f3bbb7c",
   "metadata": {},
   "outputs": [
    {
     "data": {
      "text/plain": [
       "(119390, 32)"
      ]
     },
     "execution_count": 9,
     "metadata": {},
     "output_type": "execute_result"
    }
   ],
   "source": [
    "data.shape"
   ]
  },
  {
   "cell_type": "code",
   "execution_count": 10,
   "id": "50a0e33f",
   "metadata": {},
   "outputs": [
    {
     "data": {
      "text/plain": [
       "hotel                                  0\n",
       "is_canceled                            0\n",
       "lead_time                              0\n",
       "arrival_date_year                      0\n",
       "arrival_date_month                     0\n",
       "arrival_date_week_number               0\n",
       "arrival_date_day_of_month              0\n",
       "stays_in_weekend_nights                0\n",
       "stays_in_week_nights                   0\n",
       "adults                                 0\n",
       "children                               4\n",
       "babies                                 0\n",
       "meal                                   0\n",
       "country                              488\n",
       "market_segment                         0\n",
       "distribution_channel                   0\n",
       "is_repeated_guest                      0\n",
       "previous_cancellations                 0\n",
       "previous_bookings_not_canceled         0\n",
       "reserved_room_type                     0\n",
       "assigned_room_type                     0\n",
       "booking_changes                        0\n",
       "deposit_type                           0\n",
       "agent                              16340\n",
       "company                           112593\n",
       "days_in_waiting_list                   0\n",
       "customer_type                          0\n",
       "adr                                    0\n",
       "required_car_parking_spaces            0\n",
       "total_of_special_requests              0\n",
       "reservation_status                     0\n",
       "reservation_status_date                0\n",
       "dtype: int64"
      ]
     },
     "execution_count": 10,
     "metadata": {},
     "output_type": "execute_result"
    }
   ],
   "source": [
    "data.isnull().sum()"
   ]
  },
  {
   "cell_type": "code",
   "execution_count": 11,
   "id": "4df1d297",
   "metadata": {},
   "outputs": [],
   "source": [
    "nan_replacements={\n",
    "    'country':'unknown',\n",
    "    'children':0,\n",
    "    'agent':0,\n",
    "    'company':0,\n",
    "}"
   ]
  },
  {
   "cell_type": "code",
   "execution_count": 12,
   "id": "cec59b30",
   "metadata": {},
   "outputs": [],
   "source": [
    "new_data=data.fillna(nan_replacements)"
   ]
  },
  {
   "cell_type": "code",
   "execution_count": 13,
   "id": "5f716c55",
   "metadata": {},
   "outputs": [],
   "source": [
    "new_data['meal'].replace('Undefined','SC',inplace=True)"
   ]
  },
  {
   "cell_type": "code",
   "execution_count": 14,
   "id": "13f38b3e",
   "metadata": {},
   "outputs": [],
   "source": [
    "zero_guests=list(new_data.loc[new_data['adults'] + new_data['children'] + new_data['babies']==0].index)"
   ]
  },
  {
   "cell_type": "code",
   "execution_count": 15,
   "id": "571ae656",
   "metadata": {},
   "outputs": [
    {
     "name": "stdout",
     "output_type": "stream",
     "text": [
      "180\n"
     ]
    }
   ],
   "source": [
    "print(len(zero_guests))"
   ]
  },
  {
   "cell_type": "code",
   "execution_count": 16,
   "id": "65171f97",
   "metadata": {},
   "outputs": [],
   "source": [
    "new_data.drop(new_data.index[zero_guests],inplace=True)"
   ]
  },
  {
   "cell_type": "code",
   "execution_count": 17,
   "id": "01b22955",
   "metadata": {},
   "outputs": [
    {
     "data": {
      "text/plain": [
       "(119210, 32)"
      ]
     },
     "execution_count": 17,
     "metadata": {},
     "output_type": "execute_result"
    }
   ],
   "source": [
    "new_data.shape"
   ]
  },
  {
   "cell_type": "code",
   "execution_count": 18,
   "id": "a4d5d25f",
   "metadata": {},
   "outputs": [
    {
     "data": {
      "text/plain": [
       "City Hotel      79163\n",
       "Resort Hotel    40047\n",
       "Name: hotel, dtype: int64"
      ]
     },
     "execution_count": 18,
     "metadata": {},
     "output_type": "execute_result"
    }
   ],
   "source": [
    "new_data['hotel'].value_counts()"
   ]
  },
  {
   "cell_type": "code",
   "execution_count": 19,
   "id": "2967e558",
   "metadata": {},
   "outputs": [],
   "source": [
    "values=list(new_data['hotel'].value_counts())\n",
    "values\n",
    "lab=[\"City Hotel\",\"Resort Hotel\"]"
   ]
  },
  {
   "cell_type": "code",
   "execution_count": 20,
   "id": "56bbe916",
   "metadata": {},
   "outputs": [
    {
     "data": {
      "image/png": "[encoded data removed]",
      "text/plain": [
       "<Figure size 1440x360 with 1 Axes>"
      ]
     },
     "metadata": {},
     "output_type": "display_data"
    }
   ],
   "source": [
    "plt.rcParams[\"figure.figsize\"] = (20,5)\n",
    "plt.pie(values,labels=lab,labeldistance=1.15);\n",
    "plt.show();"
   ]
  },
  {
   "cell_type": "markdown",
   "id": "fd333a48",
   "metadata": {},
   "source": [
    "Thus 66.41% of the people in data have booked City Hotel.\n",
    "And 33.59% of the people in data have booked Resort Hotel."
   ]
  },
  {
   "cell_type": "markdown",
   "id": "4c60fdca",
   "metadata": {},
   "source": [
    "Now let's divide our data into two different dataframes:- city hotel bookings(ch) and resort hotel bookings(rh)."
   ]
  },
  {
   "cell_type": "code",
   "execution_count": 21,
   "id": "1e01249a",
   "metadata": {},
   "outputs": [],
   "source": [
    "rh=new_data.loc[(new_data['hotel']=='Resort Hotel') & (new_data['is_canceled']==0)]\n",
    "ch=new_data.loc[(new_data['hotel']=='City Hotel') & (new_data['is_canceled']==0)]"
   ]
  },
  {
   "cell_type": "code",
   "execution_count": 22,
   "id": "79ed4e61",
   "metadata": {},
   "outputs": [
    {
     "data": {
      "text/plain": [
       "(28927, 32)"
      ]
     },
     "execution_count": 22,
     "metadata": {},
     "output_type": "execute_result"
    }
   ],
   "source": [
    "rh.shape"
   ]
  },
  {
   "cell_type": "code",
   "execution_count": 23,
   "id": "e8a2a725",
   "metadata": {},
   "outputs": [
    {
     "data": {
      "text/plain": [
       "(46084, 32)"
      ]
     },
     "execution_count": 23,
     "metadata": {},
     "output_type": "execute_result"
    }
   ],
   "source": [
    "ch.shape"
   ]
  },
  {
   "cell_type": "markdown",
   "id": "58d7aba3",
   "metadata": {},
   "source": [
    "# 1)Which Month has highest bookings?"
   ]
  },
  {
   "cell_type": "code",
   "execution_count": 24,
   "id": "5b3be3ec",
   "metadata": {},
   "outputs": [],
   "source": [
    "sns.set(rc={'figure.figsize':(12.5,8.5)})"
   ]
  },
  {
   "cell_type": "code",
   "execution_count": 25,
   "id": "1902d9de",
   "metadata": {},
   "outputs": [
    {
     "data": {
      "text/plain": [
       "<AxesSubplot:xlabel='arrival_date_month', ylabel='count'>"
      ]
     },
     "execution_count": 25,
     "metadata": {},
     "output_type": "execute_result"
    },
    {
     "data": {
      "image/png": "[encoded data removed]",
      "text/plain": [
       "<Figure size 900x612 with 1 Axes>"
      ]
     },
     "metadata": {},
     "output_type": "display_data"
    }
   ],
   "source": [
    "sns.countplot(x='arrival_date_month',data=rh,palette='Greens_d')"
   ]
  },
  {
   "cell_type": "markdown",
   "id": "dc05f9d3",
   "metadata": {},
   "source": [
    "Resort Hotels have higher number of guests in the month of August and July, more than 3000 from overall data.\n",
    "March,April,May and October has guests more than 2500 each from overall data.\n",
    "Thus, Resort Hotels are busiest in Summer and busier in Spring and Autumn(mostly October)."
   ]
  },
  {
   "cell_type": "code",
   "execution_count": 26,
   "id": "6fa6e138",
   "metadata": {},
   "outputs": [
    {
     "data": {
      "text/plain": [
       "<AxesSubplot:xlabel='arrival_date_month', ylabel='count'>"
      ]
     },
     "execution_count": 26,
     "metadata": {},
     "output_type": "execute_result"
    },
    {
     "data": {
      "image/png": "[encoded data removed]",
      "text/plain": [
       "<Figure size 900x612 with 1 Axes>"
      ]
     },
     "metadata": {},
     "output_type": "display_data"
    }
   ],
   "source": [
    "sns.countplot(x='arrival_date_month',data=ch,palette='rocket')"
   ]
  },
  {
   "cell_type": "markdown",
   "id": "bc11b897",
   "metadata": {},
   "source": [
    "City Hotels have higher number of guests in the month of August and July, more than 4500 guests from overall data.\n",
    "Then comes the months - March, April, May, June, September and October having guests more than 4000 each from the overall data.\n",
    "Thus, City Hotels are busiest around Summer and busier in Spring and Autumn."
   ]
  },
  {
   "cell_type": "markdown",
   "id": "0175a88a",
   "metadata": {},
   "source": [
    "# 2) WHICH ARE MORE DEMANDING - WEEKENDS OR WEEKDAYS?"
   ]
  },
  {
   "cell_type": "code",
   "execution_count": 27,
   "id": "0446982c",
   "metadata": {},
   "outputs": [
    {
     "data": {
      "text/plain": [
       "(75011, 32)"
      ]
     },
     "execution_count": 27,
     "metadata": {},
     "output_type": "execute_result"
    }
   ],
   "source": [
    "new_data[new_data['is_canceled']==0].shape"
   ]
  },
  {
   "cell_type": "code",
   "execution_count": 54,
   "id": "5d6e1edc",
   "metadata": {},
   "outputs": [
    {
     "data": {
      "text/plain": [
       "(75011, 33)"
      ]
     },
     "execution_count": 54,
     "metadata": {},
     "output_type": "execute_result"
    }
   ],
   "source": [
    "not_canceled=pd.DataFrame(new_data[new_data['is_canceled']==0])\n",
    "not_canceled.shape"
   ]
  },
  {
   "cell_type": "code",
   "execution_count": 28,
   "id": "7eae9d7b",
   "metadata": {},
   "outputs": [
    {
     "data": {
      "text/plain": [
       "(31788, 32)"
      ]
     },
     "execution_count": 28,
     "metadata": {},
     "output_type": "execute_result"
    }
   ],
   "source": [
    "new_data[(new_data['stays_in_weekend_nights']==0) & (new_data['stays_in_week_nights']!=0) & (new_data['is_canceled']==0)].shape"
   ]
  },
  {
   "cell_type": "code",
   "execution_count": 29,
   "id": "7b3e6f38",
   "metadata": {},
   "outputs": [
    {
     "data": {
      "text/plain": [
       "(5050, 32)"
      ]
     },
     "execution_count": 29,
     "metadata": {},
     "output_type": "execute_result"
    }
   ],
   "source": [
    "new_data[(new_data['stays_in_weekend_nights']!=0) & (new_data['stays_in_week_nights']==0) & (new_data['is_canceled']==0)].shape"
   ]
  },
  {
   "cell_type": "code",
   "execution_count": 30,
   "id": "1a6a9385",
   "metadata": {},
   "outputs": [
    {
     "data": {
      "text/plain": [
       "(622, 32)"
      ]
     },
     "execution_count": 30,
     "metadata": {},
     "output_type": "execute_result"
    }
   ],
   "source": [
    "new_data[(new_data['stays_in_weekend_nights']==0) & (new_data['stays_in_week_nights']==0) & (new_data['is_canceled']==0)].shape"
   ]
  },
  {
   "cell_type": "markdown",
   "id": "1e3cede6",
   "metadata": {},
   "source": [
    "So 42.38% of bookings (which were not canceled) are for weekday nights only.\n",
    "And 6.73% of bookings (which were not canceled) are for weekend nights only.\n",
    "\n",
    "Thus there are much less number of bookings for only weekend nights.\n",
    "Either people book a room for weekend and weekday nights(50.06 %) or just weekday nights."
   ]
  },
  {
   "cell_type": "code",
   "execution_count": 31,
   "id": "7f799c14",
   "metadata": {},
   "outputs": [
    {
     "data": {
      "text/plain": [
       "(10562, 32)"
      ]
     },
     "execution_count": 31,
     "metadata": {},
     "output_type": "execute_result"
    }
   ],
   "source": [
    "rh[(rh['stays_in_weekend_nights']==0) & (rh['stays_in_week_nights']!=0)].shape"
   ]
  },
  {
   "cell_type": "code",
   "execution_count": 32,
   "id": "dca531ea",
   "metadata": {},
   "outputs": [
    {
     "data": {
      "text/plain": [
       "(21226, 32)"
      ]
     },
     "execution_count": 32,
     "metadata": {},
     "output_type": "execute_result"
    }
   ],
   "source": [
    "ch[(ch['stays_in_weekend_nights']==0) & (ch['stays_in_week_nights']!=0)].shape"
   ]
  },
  {
   "cell_type": "markdown",
   "id": "71f479d1",
   "metadata": {},
   "source": [
    "rh has 28,927 bookings and ch has 46,084 bookings."
   ]
  },
  {
   "cell_type": "markdown",
   "id": "719e1e8e",
   "metadata": {},
   "source": [
    "6.49 % of Resort Hotel bookings are for only weekend nights.\n",
    "6.89 % of City Hotel bookings are for only weekend nights.\n",
    "\n",
    "36.51% of Resort Hotel bookings are for only weekday nights.\n",
    "46.06% of City Hotel bookings are for only weekday nights."
   ]
  },
  {
   "cell_type": "markdown",
   "id": "5c00c413",
   "metadata": {},
   "source": [
    "# 3) Maximum Bookings are from which country?"
   ]
  },
  {
   "cell_type": "markdown",
   "id": "58e0cb66",
   "metadata": {},
   "source": [
    "TOP 10 COUNTRY BOOKINGS:"
   ]
  },
  {
   "cell_type": "code",
   "execution_count": 33,
   "id": "4f31d719",
   "metadata": {},
   "outputs": [
    {
     "data": {
      "text/plain": [
       "Text(0.5, 0, 'Country')"
      ]
     },
     "execution_count": 33,
     "metadata": {},
     "output_type": "execute_result"
    },
    {
     "data": {
      "image/png": "[encoded data removed]",
      "text/plain": [
       "<Figure size 1080x720 with 1 Axes>"
      ]
     },
     "metadata": {},
     "output_type": "display_data"
    }
   ],
   "source": [
    "new_data.country.value_counts().nlargest(10).plot(kind='bar', figsize=(15,10))\n",
    "plt.title(\"People booking from Different countries\")\n",
    "plt.ylabel('Number of bookings')\n",
    "plt.xlabel('Country')"
   ]
  },
  {
   "cell_type": "code",
   "execution_count": 38,
   "id": "87faff0a",
   "metadata": {},
   "outputs": [
    {
     "data": {
      "text/html": [
       "<div>\n",
       "<style scoped>\n",
       "    .dataframe tbody tr th:only-of-type {\n",
       "        vertical-align: middle;\n",
       "    }\n",
       "\n",
       "    .dataframe tbody tr th {\n",
       "        vertical-align: top;\n",
       "    }\n",
       "\n",
       "    .dataframe thead th {\n",
       "        text-align: right;\n",
       "    }\n",
       "</style>\n",
       "<table border=\"1\" class=\"dataframe\">\n",
       "  <thead>\n",
       "    <tr style=\"text-align: right;\">\n",
       "      <th></th>\n",
       "      <th>country</th>\n",
       "    </tr>\n",
       "  </thead>\n",
       "  <tbody>\n",
       "    <tr>\n",
       "      <th>PRT</th>\n",
       "      <td>48483</td>\n",
       "    </tr>\n",
       "    <tr>\n",
       "      <th>GBR</th>\n",
       "      <td>12120</td>\n",
       "    </tr>\n",
       "    <tr>\n",
       "      <th>FRA</th>\n",
       "      <td>10401</td>\n",
       "    </tr>\n",
       "    <tr>\n",
       "      <th>ESP</th>\n",
       "      <td>8560</td>\n",
       "    </tr>\n",
       "    <tr>\n",
       "      <th>DEU</th>\n",
       "      <td>7285</td>\n",
       "    </tr>\n",
       "    <tr>\n",
       "      <th>ITA</th>\n",
       "      <td>3761</td>\n",
       "    </tr>\n",
       "    <tr>\n",
       "      <th>IRL</th>\n",
       "      <td>3374</td>\n",
       "    </tr>\n",
       "    <tr>\n",
       "      <th>BEL</th>\n",
       "      <td>2342</td>\n",
       "    </tr>\n",
       "    <tr>\n",
       "      <th>BRA</th>\n",
       "      <td>2222</td>\n",
       "    </tr>\n",
       "    <tr>\n",
       "      <th>NLD</th>\n",
       "      <td>2103</td>\n",
       "    </tr>\n",
       "  </tbody>\n",
       "</table>\n",
       "</div>"
      ],
      "text/plain": [
       "     country\n",
       "PRT    48483\n",
       "GBR    12120\n",
       "FRA    10401\n",
       "ESP     8560\n",
       "DEU     7285\n",
       "ITA     3761\n",
       "IRL     3374\n",
       "BEL     2342\n",
       "BRA     2222\n",
       "NLD     2103"
      ]
     },
     "execution_count": 38,
     "metadata": {},
     "output_type": "execute_result"
    }
   ],
   "source": [
    "topten=pd.DataFrame(new_data.country.value_counts().nlargest(10),columns=['country'])\n",
    "topten"
   ]
  },
  {
   "cell_type": "code",
   "execution_count": 56,
   "id": "1456b560",
   "metadata": {},
   "outputs": [
    {
     "data": {
      "text/html": [
       "<div>\n",
       "<style scoped>\n",
       "    .dataframe tbody tr th:only-of-type {\n",
       "        vertical-align: middle;\n",
       "    }\n",
       "\n",
       "    .dataframe tbody tr th {\n",
       "        vertical-align: top;\n",
       "    }\n",
       "\n",
       "    .dataframe thead th {\n",
       "        text-align: right;\n",
       "    }\n",
       "</style>\n",
       "<table border=\"1\" class=\"dataframe\">\n",
       "  <thead>\n",
       "    <tr style=\"text-align: right;\">\n",
       "      <th></th>\n",
       "      <th>country</th>\n",
       "    </tr>\n",
       "  </thead>\n",
       "  <tbody>\n",
       "    <tr>\n",
       "      <th>PRT</th>\n",
       "      <td>20977</td>\n",
       "    </tr>\n",
       "    <tr>\n",
       "      <th>GBR</th>\n",
       "      <td>9668</td>\n",
       "    </tr>\n",
       "    <tr>\n",
       "      <th>FRA</th>\n",
       "      <td>8468</td>\n",
       "    </tr>\n",
       "    <tr>\n",
       "      <th>ESP</th>\n",
       "      <td>6383</td>\n",
       "    </tr>\n",
       "    <tr>\n",
       "      <th>DEU</th>\n",
       "      <td>6067</td>\n",
       "    </tr>\n",
       "    <tr>\n",
       "      <th>IRL</th>\n",
       "      <td>2542</td>\n",
       "    </tr>\n",
       "    <tr>\n",
       "      <th>ITA</th>\n",
       "      <td>2428</td>\n",
       "    </tr>\n",
       "    <tr>\n",
       "      <th>BEL</th>\n",
       "      <td>1868</td>\n",
       "    </tr>\n",
       "    <tr>\n",
       "      <th>NLD</th>\n",
       "      <td>1716</td>\n",
       "    </tr>\n",
       "    <tr>\n",
       "      <th>USA</th>\n",
       "      <td>1592</td>\n",
       "    </tr>\n",
       "  </tbody>\n",
       "</table>\n",
       "</div>"
      ],
      "text/plain": [
       "     country\n",
       "PRT    20977\n",
       "GBR     9668\n",
       "FRA     8468\n",
       "ESP     6383\n",
       "DEU     6067\n",
       "IRL     2542\n",
       "ITA     2428\n",
       "BEL     1868\n",
       "NLD     1716\n",
       "USA     1592"
      ]
     },
     "execution_count": 56,
     "metadata": {},
     "output_type": "execute_result"
    }
   ],
   "source": [
    "newtopten=pd.DataFrame(not_canceled.country.value_counts().nlargest(10),columns=['country'])\n",
    "newtopten"
   ]
  },
  {
   "cell_type": "code",
   "execution_count": 61,
   "id": "876aa563",
   "metadata": {},
   "outputs": [
    {
     "data": {
      "image/png": "[encoded data removed]",
      "text/plain": [
       "<Figure size 900x612 with 1 Axes>"
      ]
     },
     "metadata": {},
     "output_type": "display_data"
    }
   ],
   "source": [
    "y = topten['country']\n",
    "mylabels = ['PRT','GBR','FRA','ESP','DEU','ITA','IRL','BEL','BRA','NLD']\n",
    "myexplode = [0.1, 0, 0, 0,0,0,0,0,0,0]\n",
    "\n",
    "plt.pie(y, labels = mylabels, explode = myexplode)\n",
    "plt.show() "
   ]
  },
  {
   "cell_type": "code",
   "execution_count": 47,
   "id": "5b52cb63",
   "metadata": {},
   "outputs": [
    {
     "data": {
      "text/plain": [
       "(27506, 32)"
      ]
     },
     "execution_count": 47,
     "metadata": {},
     "output_type": "execute_result"
    }
   ],
   "source": [
    "new_data[(new_data['country']=='PRT') & (new_data['is_canceled']==1)].shape"
   ]
  },
  {
   "cell_type": "markdown",
   "id": "4949f196",
   "metadata": {},
   "source": [
    "Portugal bookings were 48,483 in the total data.\n",
    "Out of which, 10,184 were booked in Resort Hotel and 10,793 were booked in City Hotel.\n",
    "And 27,506 bookings were canceled.\n",
    "Therefore, 56.73 % of the bookings were canceled."
   ]
  },
  {
   "cell_type": "code",
   "execution_count": 62,
   "id": "b8519b73",
   "metadata": {},
   "outputs": [
    {
     "data": {
      "image/png": "[encoded data removed]",
      "text/plain": [
       "<Figure size 900x612 with 1 Axes>"
      ]
     },
     "metadata": {},
     "output_type": "display_data"
    }
   ],
   "source": [
    "y = newtopten['country']\n",
    "mylabels = ['PRT','GBR','FRA','ESP','DEU','IRL','ITA','BEL','NLD','USA']\n",
    "myexplode = [0.1, 0, 0, 0,0,0,0,0,0,0]\n",
    "\n",
    "plt.pie(y, labels = mylabels, explode = myexplode)\n",
    "plt.show() "
   ]
  },
  {
   "cell_type": "markdown",
   "id": "12ee15c1",
   "metadata": {},
   "source": [
    "After using data of bookings which were not canceled, Portugal has still highest number of bookings."
   ]
  },
  {
   "cell_type": "markdown",
   "id": "61cb9bbf",
   "metadata": {},
   "source": [
    "# 4) How many number of guests book rooms?"
   ]
  },
  {
   "cell_type": "code",
   "execution_count": 64,
   "id": "9e6a3245",
   "metadata": {},
   "outputs": [],
   "source": [
    "total_guests=list(new_data.loc[(new_data['adults']) + (new_data['children']) + (new_data['babies'])].index)"
   ]
  },
  {
   "cell_type": "code",
   "execution_count": 65,
   "id": "c5e509d0",
   "metadata": {},
   "outputs": [],
   "source": [
    "new_data['totalguests'] = total_guests"
   ]
  },
  {
   "cell_type": "code",
   "execution_count": 72,
   "id": "0d4b31ad",
   "metadata": {},
   "outputs": [
    {
     "data": {
      "text/plain": [
       "Text(0.5, 0, 'value count')"
      ]
     },
     "execution_count": 72,
     "metadata": {},
     "output_type": "execute_result"
    },
    {
     "data": {
      "image/png": "[encoded data removed]",
      "text/plain": [
       "<Figure size 1080x648 with 1 Axes>"
      ]
     },
     "metadata": {},
     "output_type": "display_data"
    }
   ],
   "source": [
    "new_data.totalguests.value_counts().nlargest(10).plot(kind='bar', figsize=(15,9))\n",
    "plt.title(\"Total number of guests bookings\")\n",
    "plt.ylabel('number of guests')\n",
    "plt.xlabel('value count')"
   ]
  },
  {
   "cell_type": "markdown",
   "id": "ef370619",
   "metadata": {},
   "source": [
    "# 5) Which country bookings are the repeated guests?"
   ]
  },
  {
   "cell_type": "code",
   "execution_count": 73,
   "id": "78cd164c",
   "metadata": {},
   "outputs": [],
   "source": [
    "repeated=pd.DataFrame(new_data['country'].loc[(new_data['is_repeated_guest']==1) & (new_data['is_canceled']==0)])"
   ]
  },
  {
   "cell_type": "code",
   "execution_count": 74,
   "id": "97094f7f",
   "metadata": {},
   "outputs": [],
   "source": [
    "repval=list(repeated.value_counts())"
   ]
  },
  {
   "cell_type": "code",
   "execution_count": 75,
   "id": "6060a8b1",
   "metadata": {},
   "outputs": [
    {
     "data": {
      "text/plain": [
       "Text(0.5, 0, 'value count')"
      ]
     },
     "execution_count": 75,
     "metadata": {},
     "output_type": "execute_result"
    },
    {
     "data": {
      "image/png": "[encoded data removed]",
      "text/plain": [
       "<Figure size 1080x648 with 1 Axes>"
      ]
     },
     "metadata": {},
     "output_type": "display_data"
    }
   ],
   "source": [
    "repeated.country.value_counts().nlargest(10).plot(kind='bar', figsize=(15,9))\n",
    "plt.title(\"People of different countries who are repeated guests\")\n",
    "plt.ylabel('Country')\n",
    "plt.xlabel('value count')"
   ]
  },
  {
   "cell_type": "markdown",
   "id": "ca3927c2",
   "metadata": {},
   "source": [
    "Portugal with 2677 Repeated guests has maximum bookings."
   ]
  },
  {
   "cell_type": "markdown",
   "id": "61e8f35a",
   "metadata": {},
   "source": [
    "# 6) Which Room Type does people book?"
   ]
  },
  {
   "cell_type": "code",
   "execution_count": 76,
   "id": "36f83e95",
   "metadata": {},
   "outputs": [
    {
     "data": {
      "text/plain": [
       "array(['C', 'A', 'D', 'E', 'G', 'F', 'H', 'L', 'B'], dtype=object)"
      ]
     },
     "execution_count": 76,
     "metadata": {},
     "output_type": "execute_result"
    }
   ],
   "source": [
    "new_data['reserved_room_type'].unique()"
   ]
  },
  {
   "cell_type": "markdown",
   "id": "9b522898",
   "metadata": {},
   "source": [
    "SO there are 9 room types.\n",
    "A,B,C,D,E,F,G,H and L."
   ]
  },
  {
   "cell_type": "code",
   "execution_count": 88,
   "id": "f48007e6",
   "metadata": {},
   "outputs": [
    {
     "data": {
      "image/png": "[encoded data removed]",
      "text/plain": [
       "<Figure size 900x612 with 1 Axes>"
      ]
     },
     "metadata": {},
     "output_type": "display_data"
    }
   ],
   "source": [
    "counts = new_data[\"reserved_room_type\"].value_counts()\n",
    "plt.bar(counts.index, counts.values)\n",
    "plt.show()"
   ]
  },
  {
   "cell_type": "markdown",
   "id": "3619ded0",
   "metadata": {},
   "source": [
    "Room type A has been booked the most."
   ]
  },
  {
   "cell_type": "markdown",
   "id": "fdbd11eb",
   "metadata": {},
   "source": [
    "# 7) Which Agent made bookings the most?"
   ]
  },
  {
   "cell_type": "code",
   "execution_count": 105,
   "id": "100f78bd",
   "metadata": {},
   "outputs": [
    {
     "data": {
      "text/html": [
       "<div>\n",
       "<style scoped>\n",
       "    .dataframe tbody tr th:only-of-type {\n",
       "        vertical-align: middle;\n",
       "    }\n",
       "\n",
       "    .dataframe tbody tr th {\n",
       "        vertical-align: top;\n",
       "    }\n",
       "\n",
       "    .dataframe thead th {\n",
       "        text-align: right;\n",
       "    }\n",
       "</style>\n",
       "<table border=\"1\" class=\"dataframe\">\n",
       "  <thead>\n",
       "    <tr style=\"text-align: right;\">\n",
       "      <th></th>\n",
       "      <th>agent</th>\n",
       "    </tr>\n",
       "  </thead>\n",
       "  <tbody>\n",
       "    <tr>\n",
       "      <th>9.0</th>\n",
       "      <td>31922</td>\n",
       "    </tr>\n",
       "    <tr>\n",
       "      <th>240.0</th>\n",
       "      <td>13922</td>\n",
       "    </tr>\n",
       "    <tr>\n",
       "      <th>1.0</th>\n",
       "      <td>7187</td>\n",
       "    </tr>\n",
       "    <tr>\n",
       "      <th>14.0</th>\n",
       "      <td>3633</td>\n",
       "    </tr>\n",
       "    <tr>\n",
       "      <th>7.0</th>\n",
       "      <td>3532</td>\n",
       "    </tr>\n",
       "    <tr>\n",
       "      <th>6.0</th>\n",
       "      <td>3290</td>\n",
       "    </tr>\n",
       "    <tr>\n",
       "      <th>250.0</th>\n",
       "      <td>2870</td>\n",
       "    </tr>\n",
       "    <tr>\n",
       "      <th>241.0</th>\n",
       "      <td>1721</td>\n",
       "    </tr>\n",
       "    <tr>\n",
       "      <th>28.0</th>\n",
       "      <td>1657</td>\n",
       "    </tr>\n",
       "    <tr>\n",
       "      <th>8.0</th>\n",
       "      <td>1514</td>\n",
       "    </tr>\n",
       "  </tbody>\n",
       "</table>\n",
       "</div>"
      ],
      "text/plain": [
       "       agent\n",
       "9.0    31922\n",
       "240.0  13922\n",
       "1.0     7187\n",
       "14.0    3633\n",
       "7.0     3532\n",
       "6.0     3290\n",
       "250.0   2870\n",
       "241.0   1721\n",
       "28.0    1657\n",
       "8.0     1514"
      ]
     },
     "execution_count": 105,
     "metadata": {},
     "output_type": "execute_result"
    }
   ],
   "source": [
    "agents=pd.DataFrame(new_data[new_data['agent']!=0.0])\n",
    "agents\n",
    "\n",
    "agentss=pd.DataFrame(agents['agent'].value_counts().nlargest(10))\n",
    "agentss"
   ]
  },
  {
   "cell_type": "code",
   "execution_count": 106,
   "id": "89e44135",
   "metadata": {},
   "outputs": [
    {
     "data": {
      "image/png": "[encoded data removed]",
      "text/plain": [
       "<Figure size 900x612 with 1 Axes>"
      ]
     },
     "metadata": {},
     "output_type": "display_data"
    }
   ],
   "source": [
    "names = [9,240,1,14,7,6,250,241,28,8]\n",
    "size = agentss['agent']\n",
    "my_circle = plt.Circle( (0,0), 0.7, color='white')\n",
    "plt.pie(size, labels=names)\n",
    "p = plt.gcf()\n",
    "p.gca().add_artist(my_circle)\n",
    "\n",
    "# Show the graph\n",
    "plt.show()"
   ]
  },
  {
   "cell_type": "markdown",
   "id": "b9861d0a",
   "metadata": {},
   "source": [
    "MAX Bookings = 31,922 bookings were by agent 9.0"
   ]
  },
  {
   "cell_type": "markdown",
   "id": "ec0658d7",
   "metadata": {},
   "source": [
    "# 8) Which company had highest bookings?"
   ]
  },
  {
   "cell_type": "code",
   "execution_count": 107,
   "id": "339d7bc0",
   "metadata": {},
   "outputs": [],
   "source": [
    "companies=pd.DataFrame(new_data[new_data['company']!=0])"
   ]
  },
  {
   "cell_type": "code",
   "execution_count": 111,
   "id": "5aef2d06",
   "metadata": {},
   "outputs": [
    {
     "data": {
      "text/html": [
       "<div>\n",
       "<style scoped>\n",
       "    .dataframe tbody tr th:only-of-type {\n",
       "        vertical-align: middle;\n",
       "    }\n",
       "\n",
       "    .dataframe tbody tr th {\n",
       "        vertical-align: top;\n",
       "    }\n",
       "\n",
       "    .dataframe thead th {\n",
       "        text-align: right;\n",
       "    }\n",
       "</style>\n",
       "<table border=\"1\" class=\"dataframe\">\n",
       "  <thead>\n",
       "    <tr style=\"text-align: right;\">\n",
       "      <th></th>\n",
       "      <th>company</th>\n",
       "    </tr>\n",
       "  </thead>\n",
       "  <tbody>\n",
       "    <tr>\n",
       "      <th>40.0</th>\n",
       "      <td>924</td>\n",
       "    </tr>\n",
       "    <tr>\n",
       "      <th>223.0</th>\n",
       "      <td>784</td>\n",
       "    </tr>\n",
       "    <tr>\n",
       "      <th>67.0</th>\n",
       "      <td>267</td>\n",
       "    </tr>\n",
       "    <tr>\n",
       "      <th>45.0</th>\n",
       "      <td>249</td>\n",
       "    </tr>\n",
       "    <tr>\n",
       "      <th>153.0</th>\n",
       "      <td>213</td>\n",
       "    </tr>\n",
       "    <tr>\n",
       "      <th>174.0</th>\n",
       "      <td>147</td>\n",
       "    </tr>\n",
       "    <tr>\n",
       "      <th>219.0</th>\n",
       "      <td>141</td>\n",
       "    </tr>\n",
       "    <tr>\n",
       "      <th>281.0</th>\n",
       "      <td>138</td>\n",
       "    </tr>\n",
       "    <tr>\n",
       "      <th>154.0</th>\n",
       "      <td>133</td>\n",
       "    </tr>\n",
       "    <tr>\n",
       "      <th>405.0</th>\n",
       "      <td>119</td>\n",
       "    </tr>\n",
       "  </tbody>\n",
       "</table>\n",
       "</div>"
      ],
      "text/plain": [
       "       company\n",
       "40.0       924\n",
       "223.0      784\n",
       "67.0       267\n",
       "45.0       249\n",
       "153.0      213\n",
       "174.0      147\n",
       "219.0      141\n",
       "281.0      138\n",
       "154.0      133\n",
       "405.0      119"
      ]
     },
     "execution_count": 111,
     "metadata": {},
     "output_type": "execute_result"
    }
   ],
   "source": [
    "comp=pd.DataFrame(companies['company'].value_counts().nlargest(10))\n",
    "comp"
   ]
  },
  {
   "cell_type": "code",
   "execution_count": 112,
   "id": "0bc8bcad",
   "metadata": {},
   "outputs": [
    {
     "data": {
      "image/png": "[encoded data removed]",
      "text/plain": [
       "<Figure size 900x612 with 1 Axes>"
      ]
     },
     "metadata": {},
     "output_type": "display_data"
    }
   ],
   "source": [
    "names = [40,223,67,45,153,174,219,281,154,405]\n",
    "size = comp['company']\n",
    "my_circle = plt.Circle( (0,0), 0.7, color='white')\n",
    "plt.pie(size, labels=names)\n",
    "p = plt.gcf()\n",
    "p.gca().add_artist(my_circle)\n",
    "\n",
    "# Show the graph\n",
    "plt.show()"
   ]
  },
  {
   "cell_type": "markdown",
   "id": "cd05719e",
   "metadata": {},
   "source": [
    "MAX Bookings = 924 by Company 40.0"
   ]
  },
  {
   "cell_type": "markdown",
   "id": "45e06cf0",
   "metadata": {},
   "source": [
    "# 9) How much Car Parking Space Is Enough?"
   ]
  },
  {
   "cell_type": "code",
   "execution_count": 115,
   "id": "21080722",
   "metadata": {},
   "outputs": [
    {
     "data": {
      "text/plain": [
       "1    7376\n",
       "2      28\n",
       "3       3\n",
       "8       2\n",
       "Name: required_car_parking_spaces, dtype: int64"
      ]
     },
     "execution_count": 115,
     "metadata": {},
     "output_type": "execute_result"
    }
   ],
   "source": [
    "new_data[new_data.required_car_parking_spaces!=0].required_car_parking_spaces.value_counts()"
   ]
  },
  {
   "cell_type": "code",
   "execution_count": 125,
   "id": "8642bec7",
   "metadata": {},
   "outputs": [
    {
     "name": "stdout",
     "output_type": "stream",
     "text": [
      "                                              required_car_parking_spaces\n",
      "arrival_date_day_of_month arrival_date_month                             \n",
      "1                         April                                        19\n",
      "                          August                                       50\n",
      "                          December                                     20\n",
      "                          February                                      8\n",
      "                          January                                       9\n",
      "...                                                                   ...\n",
      "31                        January                                       7\n",
      "                          July                                         33\n",
      "                          March                                        25\n",
      "                          May                                          19\n",
      "                          October                                      29\n",
      "\n",
      "[366 rows x 1 columns]\n"
     ]
    }
   ],
   "source": [
    "parking1=new_data[['required_car_parking_spaces','arrival_date_day_of_month','arrival_date_month']]\n",
    "totalparking1= parking1.groupby(['arrival_date_day_of_month','arrival_date_month']).sum()\n",
    "print(totalparking1)"
   ]
  },
  {
   "cell_type": "code",
   "execution_count": 126,
   "id": "69bfc9cc",
   "metadata": {},
   "outputs": [
    {
     "data": {
      "text/plain": [
       "required_car_parking_spaces    50\n",
       "dtype: int64"
      ]
     },
     "execution_count": 126,
     "metadata": {},
     "output_type": "execute_result"
    }
   ],
   "source": [
    "totalparking1.max()"
   ]
  },
  {
   "cell_type": "markdown",
   "id": "cdfae304",
   "metadata": {},
   "source": [
    "50 parking spaces are required the most. "
   ]
  },
  {
   "cell_type": "markdown",
   "id": "bdc45186",
   "metadata": {},
   "source": [
    "# 10) What is the Average Cost Per Person in Resort Hotel?"
   ]
  },
  {
   "cell_type": "code",
   "execution_count": 127,
   "id": "cac58290",
   "metadata": {},
   "outputs": [],
   "source": [
    "rh['adr_pp']=rh['adr']/(rh['adults'] + rh['children'])"
   ]
  },
  {
   "cell_type": "code",
   "execution_count": 130,
   "id": "debe3e40",
   "metadata": {},
   "outputs": [
    {
     "name": "stdout",
     "output_type": "stream",
     "text": [
      "The average price of room per night and person,\n",
      "      regardless of room type and meal, in a resort hotel is: 47.49 EUR\n"
     ]
    }
   ],
   "source": [
    "print(\"\"\"The average price of room per night and person,\n",
    "      regardless of room type and meal, in a resort hotel is: {:.2f} EUR\"\"\"\n",
    "      .format(rh['adr_pp'].mean()))"
   ]
  },
  {
   "cell_type": "markdown",
   "id": "c395dfa2",
   "metadata": {},
   "source": [
    "# 11) What is the Average Cost Per Person in City Hotel?"
   ]
  },
  {
   "cell_type": "code",
   "execution_count": 131,
   "id": "79505c9c",
   "metadata": {},
   "outputs": [],
   "source": [
    "ch['adr_pp']=ch['adr']/(ch['adults'] + ch['children'])"
   ]
  },
  {
   "cell_type": "code",
   "execution_count": 132,
   "id": "8fff2f19",
   "metadata": {},
   "outputs": [
    {
     "name": "stdout",
     "output_type": "stream",
     "text": [
      "The average price of room per night and person,\n",
      "      regardless of room type and meal, in a city hotel is: 59.27 EUR\n"
     ]
    }
   ],
   "source": [
    "print(\"\"\"The average price of room per night and person,\n",
    "      regardless of room type and meal, in a city hotel is: {:.2f} EUR\"\"\"\n",
    "      .format(ch['adr_pp'].mean()))"
   ]
  },
  {
   "cell_type": "markdown",
   "id": "cfa86e12",
   "metadata": {},
   "source": [
    "# 12) Which Month Has Highest Average Cost?"
   ]
  },
  {
   "cell_type": "code",
   "execution_count": 138,
   "id": "96b642b5",
   "metadata": {},
   "outputs": [],
   "source": [
    "adr_pp=list(new_data['adr']/(new_data['adults'] + new_data['children']))\n",
    "new_data['adr_pp']=adr_pp"
   ]
  },
  {
   "cell_type": "code",
   "execution_count": 143,
   "id": "2036138b",
   "metadata": {},
   "outputs": [
    {
     "name": "stdout",
     "output_type": "stream",
     "text": [
      "                       adr_pp\n",
      "arrival_date_month           \n",
      "April               53.543623\n",
      "August              65.960983\n",
      "December            44.185154\n",
      "February            41.956388\n",
      "January             43.485103\n",
      "July                61.041555\n",
      "June                64.502485\n",
      "March               45.963692\n",
      "May                 62.346745\n",
      "November            47.146727\n",
      "October             51.326342\n",
      "September           58.917502\n"
     ]
    }
   ],
   "source": [
    "monpri=new_data[['adr_pp','arrival_date_month']]\n",
    "monthlyprice=monpri.groupby('arrival_date_month').mean()\n",
    "print(monthlyprice)"
   ]
  },
  {
   "cell_type": "markdown",
   "id": "c9d452d3",
   "metadata": {},
   "source": [
    "May,June,July and August have high avg cost throughout the year, especially August."
   ]
  },
  {
   "cell_type": "markdown",
   "id": "8b9e6a97",
   "metadata": {},
   "source": [
    "# 13) What are the length of stays?"
   ]
  },
  {
   "cell_type": "code",
   "execution_count": 157,
   "id": "20ee2834",
   "metadata": {},
   "outputs": [],
   "source": [
    "staylength=list(new_data.loc[(new_data['stays_in_weekend_nights']) + (new_data['stays_in_week_nights'])].index)"
   ]
  },
  {
   "cell_type": "code",
   "execution_count": 148,
   "id": "124f8b54",
   "metadata": {},
   "outputs": [],
   "source": [
    "new_data['staylength']=staylength"
   ]
  },
  {
   "cell_type": "code",
   "execution_count": 151,
   "id": "8a1f946e",
   "metadata": {},
   "outputs": [
    {
     "data": {
      "text/plain": [
       "Text(0, 0.5, 'value count')"
      ]
     },
     "execution_count": 151,
     "metadata": {},
     "output_type": "execute_result"
    },
    {
     "data": {
      "image/png": "[encoded data removed]",
      "text/plain": [
       "<Figure size 1080x648 with 1 Axes>"
      ]
     },
     "metadata": {},
     "output_type": "display_data"
    }
   ],
   "source": [
    "new_data.staylength.value_counts().plot(kind='bar', figsize=(15,9))\n",
    "plt.title(\"Length of Stay\")\n",
    "plt.xlabel('number of nights')\n",
    "plt.ylabel('value count')"
   ]
  },
  {
   "cell_type": "markdown",
   "id": "bf4914fa",
   "metadata": {},
   "source": [
    "# 14) Bookings by Market Segment:"
   ]
  },
  {
   "cell_type": "code",
   "execution_count": 159,
   "id": "a3fa346d",
   "metadata": {},
   "outputs": [
    {
     "data": {
      "text/plain": [
       "array(['Direct', 'Corporate', 'Online TA', 'Offline TA/TO',\n",
       "       'Complementary', 'Groups', 'Undefined', 'Aviation'], dtype=object)"
      ]
     },
     "execution_count": 159,
     "metadata": {},
     "output_type": "execute_result"
    }
   ],
   "source": [
    "new_data['market_segment'].unique()"
   ]
  },
  {
   "cell_type": "code",
   "execution_count": 161,
   "id": "2d465091",
   "metadata": {},
   "outputs": [],
   "source": [
    "market=pd.DataFrame(new_data['market_segment'].value_counts())"
   ]
  },
  {
   "cell_type": "code",
   "execution_count": 162,
   "id": "1c269d53",
   "metadata": {},
   "outputs": [
    {
     "data": {
      "text/html": [
       "<div>\n",
       "<style scoped>\n",
       "    .dataframe tbody tr th:only-of-type {\n",
       "        vertical-align: middle;\n",
       "    }\n",
       "\n",
       "    .dataframe tbody tr th {\n",
       "        vertical-align: top;\n",
       "    }\n",
       "\n",
       "    .dataframe thead th {\n",
       "        text-align: right;\n",
       "    }\n",
       "</style>\n",
       "<table border=\"1\" class=\"dataframe\">\n",
       "  <thead>\n",
       "    <tr style=\"text-align: right;\">\n",
       "      <th></th>\n",
       "      <th>market_segment</th>\n",
       "    </tr>\n",
       "  </thead>\n",
       "  <tbody>\n",
       "    <tr>\n",
       "      <th>Online TA</th>\n",
       "      <td>56408</td>\n",
       "    </tr>\n",
       "    <tr>\n",
       "      <th>Offline TA/TO</th>\n",
       "      <td>24182</td>\n",
       "    </tr>\n",
       "    <tr>\n",
       "      <th>Groups</th>\n",
       "      <td>19791</td>\n",
       "    </tr>\n",
       "    <tr>\n",
       "      <th>Direct</th>\n",
       "      <td>12582</td>\n",
       "    </tr>\n",
       "    <tr>\n",
       "      <th>Corporate</th>\n",
       "      <td>5282</td>\n",
       "    </tr>\n",
       "    <tr>\n",
       "      <th>Complementary</th>\n",
       "      <td>728</td>\n",
       "    </tr>\n",
       "    <tr>\n",
       "      <th>Aviation</th>\n",
       "      <td>235</td>\n",
       "    </tr>\n",
       "    <tr>\n",
       "      <th>Undefined</th>\n",
       "      <td>2</td>\n",
       "    </tr>\n",
       "  </tbody>\n",
       "</table>\n",
       "</div>"
      ],
      "text/plain": [
       "               market_segment\n",
       "Online TA               56408\n",
       "Offline TA/TO           24182\n",
       "Groups                  19791\n",
       "Direct                  12582\n",
       "Corporate                5282\n",
       "Complementary             728\n",
       "Aviation                  235\n",
       "Undefined                   2"
      ]
     },
     "execution_count": 162,
     "metadata": {},
     "output_type": "execute_result"
    }
   ],
   "source": [
    "market"
   ]
  },
  {
   "cell_type": "code",
   "execution_count": 174,
   "id": "60c2caf7",
   "metadata": {},
   "outputs": [
    {
     "data": {
      "image/png": "[encoded data removed]",
      "text/plain": [
       "<Figure size 900x612 with 1 Axes>"
      ]
     },
     "metadata": {},
     "output_type": "display_data"
    }
   ],
   "source": [
    "y = market['market_segment']\n",
    "mylabels = ['Online TA','Offline TA/TO','Groups','Direct','Corporate','Complementary','Aviation','Undefined']\n",
    "myexplode = [0.1, 0, 0, 0,0,0,0,0]\n",
    "\n",
    "plt.pie(y, labels = mylabels, explode = myexplode)\n",
    "plt.show() "
   ]
  }
 ],
 "metadata": {
  "kernelspec": {
   "display_name": "Python 3",
   "language": "python",
   "name": "python3"
  },
  "language_info": {
   "codemirror_mode": {
    "name": "ipython",
    "version": 3
   },
   "file_extension": ".py",
   "mimetype": "text/x-python",
   "name": "python",
   "nbconvert_exporter": "python",
   "pygments_lexer": "ipython3",
   "version": "3.8.8"
  }
 },
 "nbformat": 4,
 "nbformat_minor": 5
}
